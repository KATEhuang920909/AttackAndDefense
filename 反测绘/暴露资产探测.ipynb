{
 "cells": [
  {
   "cell_type": "code",
   "execution_count": 1,
   "outputs": [],
   "source": [
    "import requests\n",
    "# def getPorts(ip):\n",
    "#     \n",
    "#     return ports"
   ],
   "metadata": {
    "collapsed": false,
    "ExecuteTime": {
     "end_time": "2024-02-06T08:54:29.882295700Z",
     "start_time": "2024-02-06T08:54:29.801985800Z"
    }
   },
   "id": "ff2862d37b432f4d"
  },
  {
   "cell_type": "code",
   "execution_count": 3,
   "outputs": [
    {
     "ename": "FofaError",
     "evalue": "[820031] F点余额不足",
     "output_type": "error",
     "traceback": [
      "\u001B[1;31m---------------------------------------------------------------------------\u001B[0m",
      "\u001B[1;31mFofaError\u001B[0m                                 Traceback (most recent call last)",
      "Cell \u001B[1;32mIn[3], line 5\u001B[0m\n\u001B[0;32m      3\u001B[0m client \u001B[38;5;241m=\u001B[39m fofa\u001B[38;5;241m.\u001B[39mClient(key)               \n\u001B[0;32m      4\u001B[0m query_str \u001B[38;5;241m=\u001B[39m \u001B[38;5;124m'\u001B[39m\u001B[38;5;124mheader=\u001B[39m\u001B[38;5;124m\"\u001B[39m\u001B[38;5;124mthinkphp\u001B[39m\u001B[38;5;124m\"\u001B[39m\u001B[38;5;124m || header=\u001B[39m\u001B[38;5;124m\"\u001B[39m\u001B[38;5;124mthink_template\u001B[39m\u001B[38;5;124m\"\u001B[39m\u001B[38;5;124m'\u001B[39m                           \n\u001B[1;32m----> 5\u001B[0m data \u001B[38;5;241m=\u001B[39m \u001B[43mclient\u001B[49m\u001B[38;5;241;43m.\u001B[39;49m\u001B[43msearch\u001B[49m\u001B[43m(\u001B[49m\u001B[43mquery_str\u001B[49m\u001B[43m,\u001B[49m\u001B[43m \u001B[49m\u001B[43msize\u001B[49m\u001B[38;5;241;43m=\u001B[39;49m\u001B[38;5;241;43m1\u001B[39;49m\u001B[43m,\u001B[49m\u001B[43m \u001B[49m\u001B[43mpage\u001B[49m\u001B[38;5;241;43m=\u001B[39;49m\u001B[38;5;241;43m1\u001B[39;49m\u001B[43m,\u001B[49m\u001B[43m \u001B[49m\u001B[43mfields\u001B[49m\u001B[38;5;241;43m=\u001B[39;49m\u001B[38;5;124;43m\"\u001B[39;49m\u001B[38;5;124;43mip,city\u001B[39;49m\u001B[38;5;124;43m\"\u001B[39;49m\u001B[43m)\u001B[49m \n\u001B[0;32m      6\u001B[0m \u001B[38;5;28;01mfor\u001B[39;00m ip, city \u001B[38;5;129;01min\u001B[39;00m data[\u001B[38;5;124m\"\u001B[39m\u001B[38;5;124mresults\u001B[39m\u001B[38;5;124m\"\u001B[39m]:\n\u001B[0;32m      7\u001B[0m     \u001B[38;5;28mprint\u001B[39m(\u001B[38;5;124m\"\u001B[39m\u001B[38;5;132;01m%s\u001B[39;00m\u001B[38;5;124m,\u001B[39m\u001B[38;5;132;01m%s\u001B[39;00m\u001B[38;5;124m\"\u001B[39m \u001B[38;5;241m%\u001B[39m (ip, city))          \n",
      "File \u001B[1;32m~\\AppData\\Local\\Programs\\Python\\Python39\\lib\\site-packages\\fofa_py-2.0.3-py3.9.egg\\fofa\\client.py:150\u001B[0m, in \u001B[0;36mClient.search\u001B[1;34m(self, query_str, page, size, fields, opts)\u001B[0m\n\u001B[0;32m    148\u001B[0m param[\u001B[38;5;124m'\u001B[39m\u001B[38;5;124msize\u001B[39m\u001B[38;5;124m'\u001B[39m] \u001B[38;5;241m=\u001B[39m size\n\u001B[0;32m    149\u001B[0m logging\u001B[38;5;241m.\u001B[39mdebug(\u001B[38;5;124m\"\u001B[39m\u001B[38;5;124msearch \u001B[39m\u001B[38;5;124m'\u001B[39m\u001B[38;5;132;01m%s\u001B[39;00m\u001B[38;5;124m'\u001B[39m\u001B[38;5;124m page:\u001B[39m\u001B[38;5;132;01m%d\u001B[39;00m\u001B[38;5;124m size:\u001B[39m\u001B[38;5;132;01m%d\u001B[39;00m\u001B[38;5;124m\"\u001B[39m, query_str, page, size)\n\u001B[1;32m--> 150\u001B[0m \u001B[38;5;28;01mreturn\u001B[39;00m \u001B[38;5;28;43mself\u001B[39;49m\u001B[38;5;241;43m.\u001B[39;49m\u001B[43m__do_req\u001B[49m\u001B[43m(\u001B[49m\u001B[38;5;124;43m'\u001B[39;49m\u001B[38;5;124;43m/api/v1/search/all\u001B[39;49m\u001B[38;5;124;43m'\u001B[39;49m\u001B[43m,\u001B[49m\u001B[43m \u001B[49m\u001B[43mparam\u001B[49m\u001B[43m)\u001B[49m\n",
      "File \u001B[1;32m~\\AppData\\Local\\Programs\\Python\\Python39\\lib\\site-packages\\fofa_py-2.0.3-py3.9.egg\\fofa\\client.py:363\u001B[0m, in \u001B[0;36mClient.__do_req\u001B[1;34m(self, path, params, method)\u001B[0m\n\u001B[0;32m    361\u001B[0m data \u001B[38;5;241m=\u001B[39m res\u001B[38;5;241m.\u001B[39mjson()\n\u001B[0;32m    362\u001B[0m \u001B[38;5;28;01mif\u001B[39;00m \u001B[38;5;124m'\u001B[39m\u001B[38;5;124merror\u001B[39m\u001B[38;5;124m'\u001B[39m \u001B[38;5;129;01min\u001B[39;00m data \u001B[38;5;129;01mand\u001B[39;00m data[\u001B[38;5;124m'\u001B[39m\u001B[38;5;124merror\u001B[39m\u001B[38;5;124m'\u001B[39m]:\n\u001B[1;32m--> 363\u001B[0m     \u001B[38;5;28;01mraise\u001B[39;00m FofaError(data[\u001B[38;5;124m'\u001B[39m\u001B[38;5;124merrmsg\u001B[39m\u001B[38;5;124m'\u001B[39m])\n\u001B[0;32m    364\u001B[0m \u001B[38;5;28;01mreturn\u001B[39;00m data\n",
      "\u001B[1;31mFofaError\u001B[0m: [820031] F点余额不足"
     ]
    }
   ],
   "source": [
    "import fofa\n",
    "key = '6a8ebef1eaf50baca90ab0ae3d165fd4'\n",
    "client = fofa.Client(key)               \n",
    "query_str = 'header=\"thinkphp\" || header=\"think_template\"'                           \n",
    "data = client.search(query_str, size=1, page=1, fields=\"ip,city\") \n",
    "for ip, city in data[\"results\"]:\n",
    "    print(\"%s,%s\" % (ip, city))          "
   ],
   "metadata": {
    "collapsed": false,
    "ExecuteTime": {
     "end_time": "2024-02-06T10:36:26.757278400Z",
     "start_time": "2024-02-06T10:36:26.488641500Z"
    }
   },
   "id": "921657a99d6b9d52"
  },
  {
   "cell_type": "code",
   "execution_count": null,
   "outputs": [],
   "source": [],
   "metadata": {
    "collapsed": false
   },
   "id": "a82a0f943a9bf308"
  }
 ],
 "metadata": {
  "kernelspec": {
   "display_name": "Python 3",
   "language": "python",
   "name": "python3"
  },
  "language_info": {
   "codemirror_mode": {
    "name": "ipython",
    "version": 2
   },
   "file_extension": ".py",
   "mimetype": "text/x-python",
   "name": "python",
   "nbconvert_exporter": "python",
   "pygments_lexer": "ipython2",
   "version": "2.7.6"
  }
 },
 "nbformat": 4,
 "nbformat_minor": 5
}
