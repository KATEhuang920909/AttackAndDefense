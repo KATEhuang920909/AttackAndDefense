{
 "cells": [
  {
   "cell_type": "code",
   "execution_count": 10,
   "id": "initial_id",
   "metadata": {
    "collapsed": true,
    "ExecuteTime": {
     "end_time": "2024-04-03T07:14:32.401304Z",
     "start_time": "2024-04-03T07:14:32.342301200Z"
    }
   },
   "outputs": [
    {
     "name": "stdout",
     "output_type": "stream",
     "text": [
      "Begin emission:\n",
      "Finished sending 1 packets.\n",
      "\n",
      "Received 18 packets, got 1 answers, remaining 0 packets\n",
      "IP / ICMP 172.21.35.63 > 172.21.35.63 echo-request 0 ==> IP / ICMP 172.21.35.63 > 172.21.35.63 echo-reply 0\n",
      "\n",
      "Sent 1 packets.\n"
     ]
    }
   ],
   "source": [
    "from scapy.all import *\n",
    "from  scapy.layers.inet import *\n",
    "\n",
    "pkt=IP(dst=\"172.21.35.63\")/ICMP()\n",
    "res,unres=sr(pkt)\n",
    "res.summary()\n",
    "send(pkt)\n",
    "\n",
    "# 接收到应答包的数据包和返回包保存到了 res 列表中，使用 res.summary() 可查看两个数据包中的内容\n",
    "# 未接收到应答的数据包保存到 unres 列表中\n"
   ]
  },
  {
   "cell_type": "code",
   "execution_count": null,
   "outputs": [],
   "source": [],
   "metadata": {
    "collapsed": false
   },
   "id": "833d5957036bd1e9"
  }
 ],
 "metadata": {
  "kernelspec": {
   "display_name": "Python 3",
   "language": "python",
   "name": "python3"
  },
  "language_info": {
   "codemirror_mode": {
    "name": "ipython",
    "version": 2
   },
   "file_extension": ".py",
   "mimetype": "text/x-python",
   "name": "python",
   "nbconvert_exporter": "python",
   "pygments_lexer": "ipython2",
   "version": "2.7.6"
  }
 },
 "nbformat": 4,
 "nbformat_minor": 5
}
